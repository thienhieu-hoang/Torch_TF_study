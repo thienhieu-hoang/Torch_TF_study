{
 "cells": [
  {
   "cell_type": "markdown",
   "metadata": {},
   "source": [
    "Walk through of a lot of different useful Tensor Operations, where we\n",
    "go through what I think are four main parts in:\n",
    "\n",
    "1. Initialization of a Tensor\n",
    "2. Tensor Mathematical Operations and Comparison\n",
    "3. Tensor Indexing\n",
    "4. Tensor Reshaping\n",
    "\n",
    "But also other things such as setting the device (GPU/CPU) and converting\n",
    "between different types (int, float etc) and how to convert a tensor to an\n",
    "numpy array and vice-versa.\n",
    "\n",
    "Programmed by Aladdin Persson\n",
    "* 2020-06-27: Initial coding\n",
    "* 2022-12-19: Small revision of code, checked that it works with latest PyTorch version\n"
   ]
  },
  {
   "cell_type": "markdown",
   "metadata": {},
   "source": [
    "Source: https://github.com/AladdinPersson/Machine-Learning-Collection/blob/master/ML/Pytorch/Basics/pytorch_tensorbasics.py\n",
    "https://www.youtube.com/watch?v=x9JiIFvlUwk"
   ]
  },
  {
   "cell_type": "code",
   "execution_count": 1,
   "metadata": {},
   "outputs": [
    {
     "name": "stderr",
     "output_type": "stream",
     "text": [
      "/home/thien/.local/lib/python3.8/site-packages/tqdm/auto.py:21: TqdmWarning: IProgress not found. Please update jupyter and ipywidgets. See https://ipywidgets.readthedocs.io/en/stable/user_install.html\n",
      "  from .autonotebook import tqdm as notebook_tqdm\n"
     ]
    }
   ],
   "source": [
    "import torch\n",
    "import numpy as np"
   ]
  },
  {
   "cell_type": "code",
   "execution_count": null,
   "metadata": {},
   "outputs": [],
   "source": [
    "# ================================================================= #\n",
    "#                        Initializing Tensor                        #\n",
    "# ================================================================= #\n",
    "\n",
    "device = \"cuda\" if torch.cuda.is_available() else \"cpu\"  # Cuda to run on GPU!\n",
    "\n",
    "# Initializing a Tensor in this case of shape 2x3 (2 rows, 3 columns)\n",
    "my_tensor = torch.tensor(\n",
    "    [[1, 2, 3], [4, 5, 6]], dtype=torch.float32, device=device, requires_grad=True\n",
    ")\n",
    "\n"
   ]
  },
  {
   "cell_type": "code",
   "execution_count": null,
   "metadata": {},
   "outputs": [],
   "source": [
    "# A few tensor attributes\n",
    "print(\n",
    "    f\"Information about tensor: {my_tensor}\"\n",
    ")  # Prints data of the tensor, device and grad info\n",
    "print(\n",
    "    \"Type of Tensor {my_tensor.dtype}\"\n",
    ")  # Prints dtype of the tensor (torch.float32, etc)\n",
    "print(\n",
    "    f\"Device Tensor is on {my_tensor.device}\"\n",
    ")  # Prints cpu/cuda (followed by gpu number)\n",
    "print(f\"Shape of tensor {my_tensor.shape}\")  # Prints shape, in this case 2x3\n",
    "print(f\"Requires gradient: {my_tensor.requires_grad}\")  # Prints true/false\n",
    "\n"
   ]
  },
  {
   "cell_type": "code",
   "execution_count": null,
   "metadata": {},
   "outputs": [],
   "source": [
    "# Other common initialization methods (there exists a ton more)\n",
    "x = torch.empty(size=(3, 3))  # Tensor of shape 3x3 with uninitialized data\n",
    "x = torch.zeros((3, 3))  # Tensor of shape 3x3 with values of 0\n",
    "x = torch.rand(\n",
    "    (3, 3)\n",
    ")  # Tensor of shape 3x3 with values from uniform distribution in interval [0,1)\n",
    "x = torch.ones((3, 3))  # Tensor of shape 3x3 with values of 1\n",
    "x = torch.eye(5, 5)  # Returns Identity Matrix I, (I <-> Eye), matrix of shape 2x3\n",
    "x = torch.arange(\n",
    "    start=0, end=5, step=1\n",
    ")  # Tensor [0, 1, 2, 3, 4], note, can also do: torch.arange(11)\n",
    "x = torch.linspace(start=0.1, end=1, steps=10)  # x = [0.1, 0.2, ..., 1]\n",
    "x = torch.empty(size=(1, 5)).normal_(\n",
    "    mean=0, std=1\n",
    ")  # Normally distributed with mean=0, std=1\n",
    "x = torch.empty(size=(1, 5)).uniform_(\n",
    "    0, 1\n",
    ")  # Values from a uniform distribution low=0, high=1\n",
    "x = torch.diag(torch.ones(3))  # Diagonal matrix of shape 3x3\n",
    "\n",
    "# How to make initialized tensors to other types (int, float, double)\n",
    "# These will work even if you're on CPU or CUDA!\n",
    "tensor = torch.arange(4)  # [0, 1, 2, 3] Initialized as int64 by default\n"
   ]
  },
  {
   "cell_type": "code",
   "execution_count": null,
   "metadata": {},
   "outputs": [],
   "source": [
    "print(f\"Converted Boolean: {tensor.bool()}\")  # Converted to Boolean: 1 if nonzero\n",
    "print(f\"Converted int16 {tensor.short()}\")  # Converted to int16\n",
    "print(\n",
    "    f\"Converted int64 {tensor.long()}\"\n",
    ")  # Converted to int64 (This one is very important, used super often)\n",
    "print(f\"Converted float16 {tensor.half()}\")  # Converted to float16\n",
    "print(\n",
    "    f\"Converted float32 {tensor.float()}\"\n",
    ")  # Converted to float32 (This one is very important, used super often)\n",
    "print(f\"Converted float64 {tensor.double()}\")  # Converted to float64\n",
    "\n"
   ]
  },
  {
   "cell_type": "code",
   "execution_count": null,
   "metadata": {},
   "outputs": [],
   "source": [
    "# Array to Tensor conversion and vice-versa\n",
    "np_array = np.zeros((5, 5))\n",
    "tensor = torch.from_numpy(np_array)\n",
    "np_array_again = (\n",
    "    tensor.numpy()\n",
    ")  # np_array_again will be same as np_array (perhaps with numerical round offs)\n",
    "\n"
   ]
  },
  {
   "cell_type": "code",
   "execution_count": 23,
   "metadata": {},
   "outputs": [],
   "source": [
    "# =============================================================================== #\n",
    "#                        Tensor Math & Comparison Operations                      #\n",
    "# =============================================================================== #\n",
    "\n",
    "x = torch.tensor([1, 2, 3])\n",
    "y = torch.tensor([9, 8, 7])"
   ]
  },
  {
   "cell_type": "code",
   "execution_count": null,
   "metadata": {},
   "outputs": [],
   "source": [
    "# -- Addition --\n",
    "z1 = torch.empty(3)\n",
    "torch.add(x, y, out=z1)  # This is one way\n",
    "z2 = torch.add(x, y)  # This is another way\n",
    "z = x + y  # This is my preferred way, simple and clean.\n",
    "\n",
    "# -- Subtraction --\n",
    "z = x - y  # We can do similarly as the preferred way of addition\n",
    "\n",
    "# -- Division (A bit clunky) --\n",
    "z = torch.true_divide(x, y)  # Will do element wise division if of equal shape\n",
    "\n",
    "# -- Inplace Operations --\n",
    "t = torch.zeros(3)\n",
    "\n",
    "t.add_(x)  # Whenever we have operation followed by _ it will mutate the tensor in place\n",
    "t += x  # Also inplace: t = t + x is not inplace, bit confusing.\n",
    "\n",
    "# -- Exponentiation (Element wise if vector or matrices) --\n",
    "z = x.pow(2)  # z = [1, 4, 9]\n",
    "z = x**2  # z = [1, 4, 9]\n",
    "\n",
    "\n"
   ]
  },
  {
   "cell_type": "code",
   "execution_count": null,
   "metadata": {},
   "outputs": [],
   "source": [
    "# -- Simple Comparison --\n",
    "z = x > 0  # Returns [True, True, True]\n",
    "z = x < 0  # Returns [False, False, False]\n",
    "\n"
   ]
  },
  {
   "cell_type": "code",
   "execution_count": 3,
   "metadata": {},
   "outputs": [],
   "source": [
    "# -- Matrix Multiplication --\n",
    "x1 = torch.rand((2, 5))\n",
    "x2 = torch.rand((5, 3))\n"
   ]
  },
  {
   "cell_type": "code",
   "execution_count": 8,
   "metadata": {},
   "outputs": [
    {
     "data": {
      "text/plain": [
       "tensor([[0.4836, 0.9364, 1.0646],\n",
       "        [0.9826, 1.9099, 1.4344]])"
      ]
     },
     "execution_count": 8,
     "metadata": {},
     "output_type": "execute_result"
    }
   ],
   "source": [
    "x3 = torch.mm(x1, x2)  # Matrix multiplication of x1 and x2, out shape: 2x3\n",
    "x3\n"
   ]
  },
  {
   "cell_type": "code",
   "execution_count": null,
   "metadata": {},
   "outputs": [],
   "source": [
    "x3 = x1.mm(x2)  # Similar as line above\n",
    "x3\n"
   ]
  },
  {
   "cell_type": "code",
   "execution_count": 9,
   "metadata": {},
   "outputs": [
    {
     "name": "stdout",
     "output_type": "stream",
     "text": [
      "tensor([[3.4733, 4.4841, 2.0655, 5.4965, 4.3699],\n",
      "        [2.8994, 3.8658, 1.7233, 4.5560, 3.5981],\n",
      "        [3.8314, 4.7176, 2.3829, 6.0526, 4.8787],\n",
      "        [2.3271, 2.8085, 1.4634, 3.7799, 3.0543],\n",
      "        [4.7092, 6.1207, 2.8307, 7.4135, 5.9099]])\n"
     ]
    }
   ],
   "source": [
    "# -- Matrix Exponentiation --\n",
    "matrix_exp = torch.rand(5, 5)\n",
    "print(\n",
    "    matrix_exp.matrix_power(3)\n",
    ")  # is same as matrix_exp (mm) matrix_exp (mm) matrix_exp\n",
    "\n"
   ]
  },
  {
   "cell_type": "code",
   "execution_count": null,
   "metadata": {},
   "outputs": [],
   "source": [
    "# -- Element wise Multiplication --\n",
    "z = x * y  # z = [9, 16, 21] = [1*9, 2*8, 3*7]\n",
    "\n",
    "# -- Dot product --\n",
    "z = torch.dot(x, y)  # Dot product, in this case z = 1*9 + 2*8 + 3*7\n",
    "\n"
   ]
  },
  {
   "cell_type": "code",
   "execution_count": 18,
   "metadata": {},
   "outputs": [],
   "source": [
    "# -- Example of broadcasting --\n",
    "x1 = torch.rand((5, 5))\n",
    "x2 = torch.ones((1, 5))\n",
    "z = (\n",
    "    x1 - x2\n",
    ")  # Shape of z is 5x5: How? The 1x5 vector (x2) is subtracted for each row in the 5x5 (x1)\n"
   ]
  },
  {
   "cell_type": "code",
   "execution_count": 19,
   "metadata": {},
   "outputs": [
    {
     "data": {
      "text/plain": [
       "tensor([[0.5499, 0.2347, 0.6908, 0.6839, 0.3842],\n",
       "        [0.1995, 0.5815, 0.6618, 0.2881, 0.7994],\n",
       "        [0.1577, 0.1450, 0.2529, 0.5204, 0.6477],\n",
       "        [0.1378, 0.1943, 0.9267, 0.3792, 0.7353],\n",
       "        [0.8274, 0.4156, 0.0330, 0.4575, 0.5956]])"
      ]
     },
     "execution_count": 19,
     "metadata": {},
     "output_type": "execute_result"
    }
   ],
   "source": [
    "x1"
   ]
  },
  {
   "cell_type": "code",
   "execution_count": 20,
   "metadata": {},
   "outputs": [
    {
     "data": {
      "text/plain": [
       "tensor([[1., 1., 1., 1., 1.]])"
      ]
     },
     "execution_count": 20,
     "metadata": {},
     "output_type": "execute_result"
    }
   ],
   "source": [
    "x2"
   ]
  },
  {
   "cell_type": "code",
   "execution_count": 21,
   "metadata": {},
   "outputs": [
    {
     "data": {
      "text/plain": [
       "tensor([[0.5499, 0.2347, 0.6908, 0.6839, 0.3842],\n",
       "        [0.1995, 0.5815, 0.6618, 0.2881, 0.7994],\n",
       "        [0.1577, 0.1450, 0.2529, 0.5204, 0.6477],\n",
       "        [0.1378, 0.1943, 0.9267, 0.3792, 0.7353],\n",
       "        [0.8274, 0.4156, 0.0330, 0.4575, 0.5956]])"
      ]
     },
     "execution_count": 21,
     "metadata": {},
     "output_type": "execute_result"
    }
   ],
   "source": [
    "z = (\n",
    "    x1**x2\n",
    ")  # Shape of z is 5x5: How? Broadcasting! Element wise exponentiation for every row\n",
    "z"
   ]
  },
  {
   "cell_type": "code",
   "execution_count": null,
   "metadata": {},
   "outputs": [],
   "source": [
    "# Other useful tensor operations\n",
    "sum_x = torch.sum(\n",
    "    x, dim=0\n",
    ")  # Sum of x across dim=0 (which is the only dim in our case), sum_x = 6\n",
    "values, indices = torch.max(x, dim=0)  # Can also do x.max(dim=0)\n",
    "values, indices = torch.min(x, dim=0)  # Can also do x.min(dim=0)\n",
    "abs_x = torch.abs(x)  # Returns x where abs function has been applied to every element\n",
    "z = torch.argmax(x, dim=0)  # Gets index of the maximum value\n",
    "z = torch.argmin(x, dim=0)  # Gets index of the minimum value\n",
    "mean_x = torch.mean(x.float(), dim=0)  # mean requires x to be float\n",
    "z = torch.eq(x, y)  # Element wise comparison, in this case z = [False, False, False]\n",
    "sorted_y, indices = torch.sort(y, dim=0, descending=False)\n"
   ]
  },
  {
   "cell_type": "code",
   "execution_count": 26,
   "metadata": {},
   "outputs": [
    {
     "data": {
      "text/plain": [
       "tensor([ True, False,  True,  True,  True])"
      ]
     },
     "execution_count": 26,
     "metadata": {},
     "output_type": "execute_result"
    }
   ],
   "source": [
    "x"
   ]
  },
  {
   "cell_type": "code",
   "execution_count": 25,
   "metadata": {},
   "outputs": [
    {
     "data": {
      "text/plain": [
       "tensor([1, 0, 1, 1, 1])"
      ]
     },
     "execution_count": 25,
     "metadata": {},
     "output_type": "execute_result"
    }
   ],
   "source": [
    "z = torch.clamp(x, min=0)\n",
    "# All values < 0 set to 0 and values > 0 unchanged (this is exactly ReLU function)\n",
    "# If you want to values over max_val to be clamped, do torch.clamp(x, min=min_val, max=max_val)\n",
    "z"
   ]
  },
  {
   "cell_type": "code",
   "execution_count": 29,
   "metadata": {},
   "outputs": [
    {
     "data": {
      "text/plain": [
       "tensor([1, 1, 1, 1, 1])"
      ]
     },
     "execution_count": 29,
     "metadata": {},
     "output_type": "execute_result"
    }
   ],
   "source": [
    "z = torch.clamp(x, min=1, max=2)\n",
    "z"
   ]
  },
  {
   "cell_type": "code",
   "execution_count": null,
   "metadata": {},
   "outputs": [],
   "source": [
    "\n",
    "x = torch.tensor([1, 0, 1, 1, 1], dtype=torch.bool)  # True/False values\n",
    "z = torch.any(x)  # will return True, can also do x.any() instead of torch.any(x)\n",
    "z = torch.all(\n",
    "    x\n",
    ")  # will return False (since not all are True), can also do x.all() instead of torch.all()\n",
    "\n"
   ]
  },
  {
   "cell_type": "code",
   "execution_count": 36,
   "metadata": {},
   "outputs": [],
   "source": [
    "# ============================================================= #\n",
    "#                        Tensor Indexing                        #\n",
    "# ============================================================= #\n",
    "\n",
    "batch_size = 10\n",
    "features = 25\n",
    "x = torch.rand((batch_size, features))\n"
   ]
  },
  {
   "cell_type": "code",
   "execution_count": 32,
   "metadata": {},
   "outputs": [
    {
     "data": {
      "text/plain": [
       "torch.Size([10, 25])"
      ]
     },
     "execution_count": 32,
     "metadata": {},
     "output_type": "execute_result"
    }
   ],
   "source": [
    "x.shape"
   ]
  },
  {
   "cell_type": "code",
   "execution_count": 33,
   "metadata": {},
   "outputs": [
    {
     "name": "stdout",
     "output_type": "stream",
     "text": [
      "torch.Size([25])\n",
      "torch.Size([10])\n",
      "torch.Size([10])\n",
      "torch.Size([25])\n"
     ]
    }
   ],
   "source": [
    "\n",
    "# Get first examples features\n",
    "print(x[0].shape)  # shape [25], this is same as doing x[0,:]\n",
    "\n",
    "# Get the first feature for all examples\n",
    "print(x[:, 0].shape)  # shape [10]\n",
    "\n",
    "# For example: Want to access third example in the batch and the first ten features\n",
    "print(x[2, 0:10].shape)  # shape: [10]\n",
    "\n",
    "print(x[2, :].shape)\n"
   ]
  },
  {
   "cell_type": "code",
   "execution_count": null,
   "metadata": {},
   "outputs": [],
   "source": [
    "# For example we can use this to, assign certain elements\n",
    "x[0, 0] = 100\n",
    "\n"
   ]
  },
  {
   "cell_type": "code",
   "execution_count": 38,
   "metadata": {},
   "outputs": [
    {
     "name": "stdout",
     "output_type": "stream",
     "text": [
      "tensor([2, 5, 8])\n"
     ]
    }
   ],
   "source": [
    "# Fancy Indexing\n",
    "x = torch.arange(10)\n",
    "indices = [2, 5, 8]\n",
    "print(x[indices])  # x[indices] = [2, 5, 8]\n"
   ]
  },
  {
   "cell_type": "code",
   "execution_count": 41,
   "metadata": {},
   "outputs": [
    {
     "data": {
      "text/plain": [
       "tensor([[0.7131, 0.9126, 0.8722, 0.0163, 0.1759],\n",
       "        [0.7797, 0.2075, 0.2016, 0.0117, 0.6154],\n",
       "        [0.5091, 0.0408, 0.0067, 0.5324, 0.0561]])"
      ]
     },
     "execution_count": 41,
     "metadata": {},
     "output_type": "execute_result"
    }
   ],
   "source": [
    "x = torch.rand((3, 5))\n",
    "x"
   ]
  },
  {
   "cell_type": "code",
   "execution_count": 46,
   "metadata": {},
   "outputs": [
    {
     "name": "stdout",
     "output_type": "stream",
     "text": [
      "tensor([0.6154, 0.7131])\n"
     ]
    }
   ],
   "source": [
    "rows = torch.tensor([1, 0])\n",
    "cols = torch.tensor([4, 0])\n",
    "print(x[rows, cols])  # Gets second row fifth column and first row first column\n",
    "\n"
   ]
  },
  {
   "cell_type": "code",
   "execution_count": 47,
   "metadata": {},
   "outputs": [
    {
     "name": "stdout",
     "output_type": "stream",
     "text": [
      "tensor([0, 1, 9])\n",
      "tensor([0, 2, 4, 6, 8])\n"
     ]
    }
   ],
   "source": [
    "# More advanced indexing\n",
    "x = torch.arange(10)\n",
    "print(x[(x < 2) | (x > 8)])  # will be [0, 1, 9]\n",
    "print(x[x.remainder(2) == 0])  # will be [0, 2, 4, 6, 8]"
   ]
  },
  {
   "cell_type": "code",
   "execution_count": 48,
   "metadata": {},
   "outputs": [
    {
     "name": "stdout",
     "output_type": "stream",
     "text": [
      "tensor([ 0,  2,  4,  6,  8, 10,  6,  7,  8,  9])\n"
     ]
    }
   ],
   "source": [
    "# Useful operations for indexing\n",
    "print(\n",
    "    torch.where(x > 5, x, x * 2)\n",
    ")  # gives [0, 2, 4, 6, 8, 10, 6, 7, 8, 9], all values x > 5 yield x, else x*2\n"
   ]
  },
  {
   "cell_type": "code",
   "execution_count": 49,
   "metadata": {},
   "outputs": [
    {
     "name": "stdout",
     "output_type": "stream",
     "text": [
      "1\n"
     ]
    }
   ],
   "source": [
    "x = torch.tensor([0, 0, 1, 2, 2, 3, 4]).unique()  # x = [0, 1, 2, 3, 4]\n",
    "print(\n",
    "    x.ndimension()\n",
    ")  # The number of dimensions, in this case 1. if x.shape is 5x5x5 ndim would be 3\n"
   ]
  },
  {
   "cell_type": "code",
   "execution_count": 50,
   "metadata": {},
   "outputs": [
    {
     "name": "stdout",
     "output_type": "stream",
     "text": [
      "10\n"
     ]
    }
   ],
   "source": [
    "x = torch.arange(10)\n",
    "print(\n",
    "    x.numel()\n",
    ")  # The number of elements in x (in this case it's trivial because it's just a vector)\n",
    "\n"
   ]
  },
  {
   "cell_type": "code",
   "execution_count": 56,
   "metadata": {},
   "outputs": [],
   "source": [
    "# ============================================================= #\n",
    "#                        Tensor Reshaping                       #\n",
    "# ============================================================= #\n",
    "\n",
    "x = torch.arange(9)\n",
    "\n",
    "# Let's say we want to reshape it to be 3x3\n",
    "x_3x3 = x.view(3, 3)"
   ]
  },
  {
   "cell_type": "code",
   "execution_count": 57,
   "metadata": {},
   "outputs": [
    {
     "data": {
      "text/plain": [
       "tensor([[0, 1, 2],\n",
       "        [3, 4, 5],\n",
       "        [6, 7, 8]])"
      ]
     },
     "execution_count": 57,
     "metadata": {},
     "output_type": "execute_result"
    }
   ],
   "source": [
    "x_3x3"
   ]
  },
  {
   "cell_type": "code",
   "execution_count": 58,
   "metadata": {},
   "outputs": [
    {
     "data": {
      "text/plain": [
       "tensor([[0, 1, 2],\n",
       "        [3, 4, 5],\n",
       "        [6, 7, 8]])"
      ]
     },
     "execution_count": 58,
     "metadata": {},
     "output_type": "execute_result"
    }
   ],
   "source": [
    "# We can also do (view and reshape are very similar)\n",
    "# and the differences are in simple terms (I'm no expert at this),\n",
    "# is that view acts on contiguous tensors meaning if the\n",
    "# tensor is stored contiguously in memory or not, whereas\n",
    "# for reshape it doesn't matter because it will copy the\n",
    "# tensor to make it contiguously stored, which might come\n",
    "# with some performance loss.\n",
    "x_3x3 = x.reshape(3, 3)\n",
    "x_3x3\n"
   ]
  },
  {
   "cell_type": "code",
   "execution_count": 61,
   "metadata": {},
   "outputs": [
    {
     "name": "stdout",
     "output_type": "stream",
     "text": [
      "tensor([[0, 3, 6],\n",
      "        [1, 4, 7],\n",
      "        [2, 5, 8]])\n",
      "False\n"
     ]
    }
   ],
   "source": [
    "# If we for example do:\n",
    "y = x_3x3.t()\n",
    "print(y)\n",
    "print(\n",
    "    y.is_contiguous()\n",
    ")  # This will return False and if we try to use view now, it won't work!\n",
    "# y.view(9) would cause an error, reshape however won't\n"
   ]
  },
  {
   "cell_type": "code",
   "execution_count": 62,
   "metadata": {},
   "outputs": [
    {
     "data": {
      "text/plain": [
       "True"
      ]
     },
     "execution_count": 62,
     "metadata": {},
     "output_type": "execute_result"
    }
   ],
   "source": [
    "x_3x3.is_contiguous()"
   ]
  },
  {
   "cell_type": "code",
   "execution_count": 64,
   "metadata": {},
   "outputs": [
    {
     "name": "stdout",
     "output_type": "stream",
     "text": [
      "tensor([0, 3, 6, 1, 4, 7, 2, 5, 8])\n"
     ]
    }
   ],
   "source": [
    "# This is because in memory it was stored [0, 1, 2, ... 8], whereas now it's [0, 3, 6, 1, 4, 7, 2, 5, 8]\n",
    "# The jump is no longer 1 in memory for one element jump (matrices are stored as a contiguous block, and\n",
    "# using pointers to construct these matrices). This is a bit complicated and I need to explore this more\n",
    "# as well, at least you know it's a problem to be cautious of! A solution is to do the following\n",
    "print(y.contiguous().view(9))  # Calling .contiguous() before view and it works"
   ]
  },
  {
   "cell_type": "code",
   "execution_count": 65,
   "metadata": {},
   "outputs": [
    {
     "name": "stdout",
     "output_type": "stream",
     "text": [
      "torch.Size([4, 5])\n",
      "torch.Size([2, 10])\n"
     ]
    }
   ],
   "source": [
    "# Moving on to another operation, let's say we want to add two tensors dimensions togethor\n",
    "x1 = torch.rand(2, 5)\n",
    "x2 = torch.rand(2, 5)\n",
    "print(torch.cat((x1, x2), dim=0).shape)  # Shape: 4x5\n",
    "print(torch.cat((x1, x2), dim=1).shape)  # Shape 2x10\n"
   ]
  },
  {
   "cell_type": "code",
   "execution_count": 69,
   "metadata": {},
   "outputs": [
    {
     "name": "stdout",
     "output_type": "stream",
     "text": [
      "tensor([[0.0455, 0.5303, 0.3876, 0.0472, 0.6753],\n",
      "        [0.8559, 0.9681, 0.7242, 0.4652, 0.3025]])\n"
     ]
    },
    {
     "data": {
      "text/plain": [
       "tensor([0.0455, 0.5303, 0.3876, 0.0472, 0.6753, 0.8559, 0.9681, 0.7242, 0.4652,\n",
       "        0.3025])"
      ]
     },
     "execution_count": 69,
     "metadata": {},
     "output_type": "execute_result"
    }
   ],
   "source": [
    "print(x1)\n",
    "# Let's say we want to unroll x1 into one long vector with 10 elements, we can do:\n",
    "z = x1.view(-1)  # And -1 will unroll everything\n",
    "z\n"
   ]
  },
  {
   "cell_type": "code",
   "execution_count": 73,
   "metadata": {},
   "outputs": [
    {
     "name": "stdout",
     "output_type": "stream",
     "text": [
      "torch.Size([64, 2, 5])\n",
      "torch.Size([64, 10])\n",
      "torch.Size([640])\n"
     ]
    }
   ],
   "source": [
    "# If we instead have an additional dimension and we wish to keep those as is we can do:\n",
    "batch = 64\n",
    "x = torch.rand((batch, 2, 5))\n",
    "print(x.shape)\n",
    "z = x.view(\n",
    "    batch, -1\n",
    ")  # And z.shape would be 64x10, this is very useful stuff and is used all the time\n",
    "print(z.shape)\n",
    "print(x.view(-1).shape)"
   ]
  },
  {
   "cell_type": "code",
   "execution_count": 75,
   "metadata": {},
   "outputs": [
    {
     "data": {
      "text/plain": [
       "torch.Size([1, 10, 1])"
      ]
     },
     "execution_count": 75,
     "metadata": {},
     "output_type": "execute_result"
    }
   ],
   "source": [
    "# Let's say we want to switch x axis so that instead of 64x2x5 we have 64x5x2\n",
    "# I.e we want dimension 0 to stay, dimension 1 to become dimension 2, dimension 2 to become dimension 1\n",
    "# Basically you tell permute where you want the new dimensions to be, torch.transpose is a special case\n",
    "# of permute (why?)\n",
    "z = x.permute(0, 2, 1)\n",
    "z.shape"
   ]
  },
  {
   "cell_type": "code",
   "execution_count": 82,
   "metadata": {},
   "outputs": [
    {
     "name": "stdout",
     "output_type": "stream",
     "text": [
      "torch.Size([1, 1, 10])\n"
     ]
    },
    {
     "ename": "IndexError",
     "evalue": "tuple index out of range",
     "output_type": "error",
     "traceback": [
      "\u001b[0;31m---------------------------------------------------------------------------\u001b[0m",
      "\u001b[0;31mIndexError\u001b[0m                                Traceback (most recent call last)",
      "Cell \u001b[0;32mIn[82], line 5\u001b[0m\n\u001b[1;32m      3\u001b[0m z \u001b[38;5;241m=\u001b[39m torch\u001b[38;5;241m.\u001b[39mchunk(x, chunks\u001b[38;5;241m=\u001b[39m\u001b[38;5;241m2\u001b[39m, dim\u001b[38;5;241m=\u001b[39m\u001b[38;5;241m1\u001b[39m)\n\u001b[1;32m      4\u001b[0m \u001b[38;5;28mprint\u001b[39m(z[\u001b[38;5;241m0\u001b[39m]\u001b[38;5;241m.\u001b[39mshape)\n\u001b[0;32m----> 5\u001b[0m \u001b[38;5;28mprint\u001b[39m(\u001b[43mz\u001b[49m\u001b[43m[\u001b[49m\u001b[38;5;241;43m1\u001b[39;49m\u001b[43m]\u001b[49m\u001b[38;5;241m.\u001b[39mshape)\n",
      "\u001b[0;31mIndexError\u001b[0m: tuple index out of range"
     ]
    }
   ],
   "source": [
    "# Splits x last dimension into chunks of 2 (since 5 is not integer div by 2) the last dimension\n",
    "# will be smaller, so it will split it into two tensors: 64x2x3 and 64x2x2\n",
    "z = torch.chunk(x, chunks=2, dim=1)\n",
    "print(z[0].shape)\n",
    "print(z[1].shape)\n"
   ]
  },
  {
   "cell_type": "code",
   "execution_count": 84,
   "metadata": {},
   "outputs": [
    {
     "name": "stdout",
     "output_type": "stream",
     "text": [
      "torch.Size([1, 10])\n",
      "torch.Size([10, 1])\n"
     ]
    }
   ],
   "source": [
    "# Let's say we want to add an additional dimension\n",
    "x = torch.arange(\n",
    "    10\n",
    ")  # Shape is [10], let's say we want to add an additional so we have 1x10\n",
    "print(x.unsqueeze(0).shape)  # 1x10\n",
    "print(x.unsqueeze(1).shape)  # 10x1\n",
    "\n"
   ]
  },
  {
   "cell_type": "code",
   "execution_count": 85,
   "metadata": {},
   "outputs": [
    {
     "data": {
      "text/plain": [
       "tensor([[0],\n",
       "        [1],\n",
       "        [2],\n",
       "        [3],\n",
       "        [4],\n",
       "        [5],\n",
       "        [6],\n",
       "        [7],\n",
       "        [8],\n",
       "        [9]])"
      ]
     },
     "execution_count": 85,
     "metadata": {},
     "output_type": "execute_result"
    }
   ],
   "source": [
    "x.unsqueeze(1)"
   ]
  },
  {
   "cell_type": "code",
   "execution_count": 87,
   "metadata": {},
   "outputs": [
    {
     "name": "stdout",
     "output_type": "stream",
     "text": [
      "torch.Size([1, 1, 10])\n",
      "torch.Size([1, 10])\n"
     ]
    }
   ],
   "source": [
    "# Let's say we have x which is 1x1x10 and we want to remove a dim so we have 1x10\n",
    "x = torch.arange(10).unsqueeze(0).unsqueeze(1)\n",
    "print(x.shape)\n",
    "# Perhaps unsurprisingly\n",
    "z = x.squeeze(1)  # can also do .squeeze(0) both returns 1x10\n",
    "print(z.shape)\n",
    "# That was some essential Tensor operations, hopefully you found it useful!"
   ]
  }
 ],
 "metadata": {
  "kernelspec": {
   "display_name": "Torch_GPU",
   "language": "python",
   "name": "python3"
  },
  "language_info": {
   "codemirror_mode": {
    "name": "ipython",
    "version": 3
   },
   "file_extension": ".py",
   "mimetype": "text/x-python",
   "name": "python",
   "nbconvert_exporter": "python",
   "pygments_lexer": "ipython3",
   "version": "3.8.19"
  }
 },
 "nbformat": 4,
 "nbformat_minor": 2
}
