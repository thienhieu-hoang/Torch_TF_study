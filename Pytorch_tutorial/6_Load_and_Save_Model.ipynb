{
 "cells": [
  {
   "cell_type": "markdown",
   "metadata": {},
   "source": [
    "Small code example of how to save and load checkpoint of a model.\n",
    "This example doesn't perform any training, so it would be quite useless.\n",
    "\n",
    "In practice you would save the model as you train, and then load before \n",
    "continuining training at another point.\n",
    "\n",
    "Video explanation of code & how to save and load model: https://youtu.be/g6kQl_EFn84\n",
    "Got any questions leave a comment on youtube :)\n",
    "\n",
    "Coded by Aladdin Persson <aladdin dot person at hotmail dot com>\n",
    "*   2020-04-07 Initial programming\n",
    "*   2022-12-16 Updated with more detailed comments, and checked code still functions as intended.\n"
   ]
  },
  {
   "cell_type": "code",
   "execution_count": 1,
   "metadata": {},
   "outputs": [
    {
     "name": "stderr",
     "output_type": "stream",
     "text": [
      "/home/thien/.local/lib/python3.8/site-packages/tqdm/auto.py:21: TqdmWarning: IProgress not found. Please update jupyter and ipywidgets. See https://ipywidgets.readthedocs.io/en/stable/user_install.html\n",
      "  from .autonotebook import tqdm as notebook_tqdm\n"
     ]
    }
   ],
   "source": [
    "# Imports\n",
    "import torch\n",
    "import torchvision\n",
    "import torch.nn as nn  # All neural network modules, nn.Linear, nn.Conv2d, BatchNorm, Loss functions\n",
    "import torch.optim as optim  # For all Optimization algorithms, SGD, Adam, etc.\n",
    "import torch.nn.functional as F  # All functions that don't have any parameters\n",
    "from torch.utils.data import (\n",
    "    DataLoader,\n",
    ")  # Gives easier dataset managment and creates mini batches\n",
    "import torchvision.datasets as datasets  # Has standard datasets we can import in a nice way\n",
    "import torchvision.transforms as transforms  # Transformations we can perform on our dataset"
   ]
  },
  {
   "cell_type": "code",
   "execution_count": 15,
   "metadata": {},
   "outputs": [],
   "source": [
    "def save_checkpoint(checkpoint_state, filename=\"my_checkpoint.pth.tar\"):\n",
    "    print(\"=> Saving checkpoint\")\n",
    "    torch.save(checkpoint_state, filename)\n",
    "\n",
    "\n",
    "def load_checkpoint(checkpoint_load, model, optimizer, a):\n",
    "    print(\"=> Loading checkpoint\")\n",
    "    model.load_state_dict(checkpoint_load[\"state_dict\"])\n",
    "    optimizer.load_state_dict(checkpoint_load[\"optimizer\"])\n",
    "    a = 3\n",
    "    # a.load_state_dict(checkpoint_load[\"a\"]) # error\n",
    "    # only variable types with .load_state_dict attribute can use the attribute"
   ]
  },
  {
   "cell_type": "code",
   "execution_count": 16,
   "metadata": {},
   "outputs": [],
   "source": [
    "def main():\n",
    "    # Initialize network\n",
    "    model = torchvision.models.vgg16(\n",
    "        weights=None\n",
    "    )  # pretrained=False deprecated, use weights instead\n",
    "    optimizer = optim.Adam(model.parameters())\n",
    "    a = 3\n",
    "\n",
    "    checkpoint_state = {\"state_dict\": model.state_dict(), \"optimizer\": optimizer.state_dict(), \"a\": a}\n",
    "        # error at a - only variable types with .load_state_dict attribute can use the attribute\n",
    "    # Try save checkpoint\n",
    "    save_checkpoint(checkpoint_state)\n",
    "\n",
    "    # Try load checkpoint\n",
    "    load_checkpoint(torch.load(\"my_checkpoint.pth.tar\"), model, optimizer, a)"
   ]
  },
  {
   "cell_type": "code",
   "execution_count": 17,
   "metadata": {},
   "outputs": [
    {
     "name": "stdout",
     "output_type": "stream",
     "text": [
      "=> Saving checkpoint\n",
      "=> Loading checkpoint\n"
     ]
    }
   ],
   "source": [
    "if __name__ == \"__main__\":\n",
    "    main()"
   ]
  }
 ],
 "metadata": {
  "kernelspec": {
   "display_name": "Torch_GPU",
   "language": "python",
   "name": "python3"
  },
  "language_info": {
   "codemirror_mode": {
    "name": "ipython",
    "version": 3
   },
   "file_extension": ".py",
   "mimetype": "text/x-python",
   "name": "python",
   "nbconvert_exporter": "python",
   "pygments_lexer": "ipython3",
   "version": "3.8.19"
  }
 },
 "nbformat": 4,
 "nbformat_minor": 2
}
