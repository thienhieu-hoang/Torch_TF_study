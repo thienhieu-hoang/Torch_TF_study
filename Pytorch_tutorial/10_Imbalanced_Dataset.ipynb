{
 "cells": [
  {
   "cell_type": "markdown",
   "metadata": {},
   "source": [
    "This code is for dealing with imbalanced datasets in PyTorch. Imbalanced datasets \n",
    "are those where the number of samples in one or more classes is significantly lower \n",
    "than the number of samples in the other classes. This can be a problem because it \n",
    "can lead to a model that is biased towards the more common classes, which can result \n",
    "in poor performance on the less common classes.\n",
    "\n",
    "To deal with imbalanced datasets, this code implements two methods: oversampling and \n",
    "class weighting.\n",
    "\n",
    "Oversampling involves generating additional samples for the underrepresented classes, \n",
    "while class weighting involves assigning higher weights to the loss of samples in the \n",
    "underrepresented classes, so that the model pays more attention to them.\n",
    "\n",
    "In this code, the get_loader function takes a root directory for a dataset and a batch \n",
    "size, and returns a PyTorch data loader. The data loader is used to iterate over the \n",
    "dataset in batches. The get_loader function first applies some transformations to the \n",
    "images in the dataset using the transforms module from torchvision. Then it calculates \n",
    "the class weights based on the number of samples in each class. It then creates a \n",
    "WeightedRandomSampler object, which is used to randomly select a batch of samples with a \n",
    "probability proportional to their weights. Finally, it creates the data loader using the \n",
    "dataset and the weighted random sampler.\n",
    "\n",
    "The main function then uses the data loader to iterate over the dataset for 10 epochs, \n",
    "and counts the number of samples in each class. Finally, it prints the counts for each class.\n",
    "\n",
    "Programmed by Aladdin Persson <aladdin.persson at hotmail dot com>\n",
    "* 2020-04-08: Initial coding\n",
    "* 2021-03-24: Added more detailed comments also removed part of\n",
    "              check_accuracy which would only work specifically on MNIST.\n",
    "* 2022-12-19: Updated detailed comments, small code revision, checked code still works with latest PyTorch. "
   ]
  },
  {
   "cell_type": "code",
   "execution_count": 1,
   "metadata": {},
   "outputs": [
    {
     "name": "stderr",
     "output_type": "stream",
     "text": [
      "/home/thien/.local/lib/python3.8/site-packages/tqdm/auto.py:21: TqdmWarning: IProgress not found. Please update jupyter and ipywidgets. See https://ipywidgets.readthedocs.io/en/stable/user_install.html\n",
      "  from .autonotebook import tqdm as notebook_tqdm\n"
     ]
    }
   ],
   "source": [
    "import torch\n",
    "import torchvision.datasets as datasets\n",
    "import os\n",
    "from torch.utils.data import WeightedRandomSampler, DataLoader\n",
    "import torchvision.transforms as transforms\n",
    "import torch.nn as nn"
   ]
  },
  {
   "cell_type": "code",
   "execution_count": null,
   "metadata": {},
   "outputs": [],
   "source": [
    "\n",
    "# Methods for dealing with imbalanced datasets:\n",
    "# 1. Oversampling (probably preferable)\n",
    "# 2. Class weighting\n"
   ]
  },
  {
   "cell_type": "code",
   "execution_count": 2,
   "metadata": {},
   "outputs": [],
   "source": [
    "# for Class weighting:\n",
    "loss_fn = nn.CrossEntropyLoss(weight=torch.tensor([1,50]))"
   ]
  },
  {
   "cell_type": "code",
   "execution_count": 11,
   "metadata": {},
   "outputs": [],
   "source": [
    "# OverSampling\n",
    "def get_loader(root_dir, batch_size):\n",
    "    my_transforms = transforms.Compose(\n",
    "        [\n",
    "            transforms.Resize((224, 224)),\n",
    "            transforms.ToTensor(),\n",
    "        ]\n",
    "    )\n",
    "\n",
    "    dataset = datasets.ImageFolder(root=root_dir, transform=my_transforms)\n",
    "    subdirectories = dataset.classes\n",
    "    class_weights = []  # [1,50], [1/50,1]\n",
    "\n",
    "    # loop through each subdirectory and calculate the class weight\n",
    "    # that is 1 / len(files) in that subdirectory\n",
    "    for subdir in subdirectories:\n",
    "        files = os.listdir(os.path.join(root_dir, subdir))\n",
    "        class_weights.append(1 / len(files))  # [1/50,1]\n",
    "\n",
    "    sample_weights = [0] * len(dataset) # == len(dataset)\n",
    "\n",
    "    for idx, (data, label) in enumerate(dataset):\n",
    "        class_weight = class_weights[label]\n",
    "        sample_weights[idx] = class_weight # == [0.2 0.2 0.2 ... 0.2 1]\n",
    "\n",
    "    sampler = WeightedRandomSampler(\n",
    "        sample_weights, num_samples=len(sample_weights), replacement=True\n",
    "    )\n",
    "\n",
    "    loader = DataLoader(dataset, batch_size=batch_size, sampler=sampler)\n",
    "    return loader"
   ]
  },
  {
   "cell_type": "code",
   "execution_count": 4,
   "metadata": {},
   "outputs": [],
   "source": [
    "def main():\n",
    "    loader = get_loader(root_dir=\"10_Imbalanced_Dataset/dataset\", batch_size=8)\n",
    "\n",
    "    num_retrievers = 0 # number of class 0\n",
    "    num_elkhounds = 0  # number of class 1\n",
    "    for epoch in range(10):\n",
    "        for data, labels in loader:\n",
    "            num_retrievers += torch.sum(labels == 0)\n",
    "            num_elkhounds += torch.sum(labels == 1)\n",
    "\n",
    "    print(num_retrievers.item())\n",
    "    print(num_elkhounds.item())"
   ]
  },
  {
   "cell_type": "code",
   "execution_count": 13,
   "metadata": {},
   "outputs": [
    {
     "name": "stdout",
     "output_type": "stream",
     "text": [
      "247\n",
      "263\n"
     ]
    }
   ],
   "source": [
    "if __name__ == \"__main__\":\n",
    "    main()"
   ]
  }
 ],
 "metadata": {
  "kernelspec": {
   "display_name": "Torch_GPU",
   "language": "python",
   "name": "python3"
  },
  "language_info": {
   "codemirror_mode": {
    "name": "ipython",
    "version": 3
   },
   "file_extension": ".py",
   "mimetype": "text/x-python",
   "name": "python",
   "nbconvert_exporter": "python",
   "pygments_lexer": "ipython3",
   "version": "3.8.19"
  }
 },
 "nbformat": 4,
 "nbformat_minor": 2
}
