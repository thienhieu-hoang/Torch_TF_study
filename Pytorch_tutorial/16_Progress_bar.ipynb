{
 "cells": [
  {
   "cell_type": "markdown",
   "metadata": {},
   "source": [
    "Example code of how to set progress bar using tqdm that is very efficient and nicely looking.\n",
    "\n",
    "Programmed by Aladdin Persson <aladdin.persson at hotmail dot com>\n",
    "*    2020-05-09 Initial coding\n",
    "*    2022-12-19 Updated with more detailed comments, and checked code works with latest PyTorch.\n"
   ]
  },
  {
   "cell_type": "code",
   "execution_count": 1,
   "metadata": {},
   "outputs": [
    {
     "name": "stderr",
     "output_type": "stream",
     "text": [
      "/home/thien/.local/lib/python3.8/site-packages/tqdm/auto.py:21: TqdmWarning: IProgress not found. Please update jupyter and ipywidgets. See https://ipywidgets.readthedocs.io/en/stable/user_install.html\n",
      "  from .autonotebook import tqdm as notebook_tqdm\n"
     ]
    }
   ],
   "source": [
    "import torch\n",
    "import torch.nn as nn\n",
    "from tqdm import tqdm\n",
    "from torch.utils.data import TensorDataset, DataLoader"
   ]
  },
  {
   "cell_type": "code",
   "execution_count": 2,
   "metadata": {},
   "outputs": [],
   "source": [
    "# Create a simple toy dataset\n",
    "x = torch.randn((1000, 3, 224, 224))\n",
    "y = torch.randint(low=0, high=10, size=(1000, 1))\n",
    "ds = TensorDataset(x, y)\n",
    "loader = DataLoader(ds, batch_size=8)"
   ]
  },
  {
   "cell_type": "code",
   "execution_count": 3,
   "metadata": {},
   "outputs": [],
   "source": [
    "model = nn.Sequential(\n",
    "    nn.Conv2d(in_channels=3, out_channels=10, kernel_size=3, padding=1, stride=1),\n",
    "    nn.Flatten(),\n",
    "    nn.Linear(10 * 224 * 224, 10),\n",
    ")"
   ]
  },
  {
   "cell_type": "code",
   "execution_count": 9,
   "metadata": {},
   "outputs": [
    {
     "name": "stderr",
     "output_type": "stream",
     "text": [
      "Epoch [0/10]: 100%|██████████| 125/125 [00:01<00:00, 87.95it/s, acc=0.824, loss=0.0561]  \n",
      "Epoch [1/10]: 100%|██████████| 125/125 [00:01<00:00, 93.03it/s, acc=0.212, loss=0.14]   \n",
      "Epoch [2/10]: 100%|██████████| 125/125 [00:01<00:00, 94.69it/s, acc=0.782, loss=0.225]  \n",
      "Epoch [3/10]: 100%|██████████| 125/125 [00:01<00:00, 91.10it/s, acc=0.814, loss=0.895]   \n",
      "Epoch [4/10]: 100%|██████████| 125/125 [00:01<00:00, 89.17it/s, acc=0.262, loss=0.0893]\n",
      "Epoch [5/10]: 100%|██████████| 125/125 [00:01<00:00, 94.46it/s, acc=0.656, loss=0.0475] \n",
      "Epoch [6/10]: 100%|██████████| 125/125 [00:01<00:00, 88.71it/s, acc=0.95, loss=0.409]   \n",
      "Epoch [7/10]: 100%|██████████| 125/125 [00:01<00:00, 90.94it/s, acc=0.846, loss=0.249]  \n",
      "Epoch [8/10]: 100%|██████████| 125/125 [00:01<00:00, 94.17it/s, acc=0.328, loss=0.937]  \n",
      "Epoch [9/10]: 100%|██████████| 125/125 [00:01<00:00, 93.76it/s, acc=0.59, loss=0.839]  \n"
     ]
    }
   ],
   "source": [
    "NUM_EPOCHS = 10\n",
    "for epoch in range(NUM_EPOCHS):\n",
    "    loop = tqdm(loader)\n",
    "    for idx, (x, y) in enumerate(loop):\n",
    "        scores = model(x)\n",
    "\n",
    "        # here we would compute loss, backward, optimizer step etc.\n",
    "        # you know how it goes, but now you have a nice progress bar\n",
    "        # with tqdm\n",
    "\n",
    "        # then at the bottom if you want additional info shown, you can\n",
    "        # add it here, for loss and accuracy you would obviously compute\n",
    "        # but now we just set them to random values\n",
    "        loop.set_description(f\"Epoch [{epoch}/{NUM_EPOCHS}]\")\n",
    "        loop.set_postfix(loss=torch.rand(1).item(), acc=torch.rand(1).item())\n",
    "\n",
    "# There you go. Hope it was useful :)"
   ]
  }
 ],
 "metadata": {
  "kernelspec": {
   "display_name": "Torch_GPU",
   "language": "python",
   "name": "python3"
  },
  "language_info": {
   "codemirror_mode": {
    "name": "ipython",
    "version": 3
   },
   "file_extension": ".py",
   "mimetype": "text/x-python",
   "name": "python",
   "nbconvert_exporter": "python",
   "pygments_lexer": "ipython3",
   "version": "3.8.19"
  }
 },
 "nbformat": 4,
 "nbformat_minor": 2
}
