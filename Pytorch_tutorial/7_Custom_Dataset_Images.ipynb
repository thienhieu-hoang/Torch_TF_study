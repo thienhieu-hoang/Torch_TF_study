{
 "cells": [
  {
   "cell_type": "markdown",
   "metadata": {},
   "source": [
    "Example of how to create custom dataset in Pytorch. In this case\n",
    "we have images of cats and dogs in a separate folder and a csv\n",
    "file containing the name to the jpg file as well as the target\n",
    "label (0 for cat, 1 for dog).\n",
    "\n",
    "Programmed by Aladdin Persson <aladdin.persson at hotmail dot com>\n",
    "*    2020-04-03 Initial coding\n",
    "*    2022-12-19 Updated with better comments, improved code using PIL, and checked code still functions as intended."
   ]
  },
  {
   "cell_type": "code",
   "execution_count": 1,
   "metadata": {},
   "outputs": [
    {
     "name": "stderr",
     "output_type": "stream",
     "text": [
      "/home/thien/.local/lib/python3.8/site-packages/tqdm/auto.py:21: TqdmWarning: IProgress not found. Please update jupyter and ipywidgets. See https://ipywidgets.readthedocs.io/en/stable/user_install.html\n",
      "  from .autonotebook import tqdm as notebook_tqdm\n"
     ]
    }
   ],
   "source": [
    "# Imports\n",
    "import torch\n",
    "import torch.nn as nn  # All neural network modules, nn.Linear, nn.Conv2d, BatchNorm, Loss functions\n",
    "import torch.optim as optim  # For all Optimization algorithms, SGD, Adam, etc.\n",
    "import torchvision.transforms as transforms  # Transformations we can perform on our dataset\n",
    "import torchvision\n",
    "import os\n",
    "import pandas as pd\n",
    "from PIL import Image\n",
    "from torch.utils.data import (\n",
    "    Dataset,\n",
    "    DataLoader,\n",
    ")  # Gives easier dataset managment and creates mini batches"
   ]
  },
  {
   "cell_type": "code",
   "execution_count": 2,
   "metadata": {},
   "outputs": [],
   "source": [
    "class CatsAndDogsDataset(Dataset):\n",
    "    def __init__(self, csv_file, root_dir, transform=None):\n",
    "        self.annotations = pd.read_csv(csv_file)\n",
    "        self.root_dir = root_dir\n",
    "        self.transform = transform\n",
    "\n",
    "    def __len__(self):\n",
    "        return len(self.annotations)\n",
    "\n",
    "    def __getitem__(self, index):\n",
    "        img_path = os.path.join(self.root_dir, self.annotations.iloc[index, 0])\n",
    "        image = Image.open(img_path)\n",
    "        y_label = torch.tensor(int(self.annotations.iloc[index, 1]))\n",
    "\n",
    "        if self.transform:\n",
    "            image = self.transform(image)\n",
    "\n",
    "        return (image, y_label)"
   ]
  },
  {
   "cell_type": "code",
   "execution_count": 3,
   "metadata": {},
   "outputs": [],
   "source": [
    "# Set device\n",
    "device = torch.device(\"cuda\" if torch.cuda.is_available() else \"cpu\")\n",
    "\n",
    "# Hyperparameters\n",
    "in_channel = 3\n",
    "num_classes = 2\n",
    "learning_rate = 3e-4\n",
    "batch_size = 32\n",
    "num_epochs = 10"
   ]
  },
  {
   "cell_type": "code",
   "execution_count": 5,
   "metadata": {},
   "outputs": [],
   "source": [
    "# Load Data\n",
    "dataset = CatsAndDogsDataset(\n",
    "    csv_file=\"7_Custom_Dataset_Images/cats_dogs.csv\",\n",
    "    root_dir=\"7_Custom_Dataset_Images/cats_dogs_resized\",\n",
    "    transform=transforms.ToTensor(),\n",
    ")"
   ]
  },
  {
   "cell_type": "code",
   "execution_count": 15,
   "metadata": {},
   "outputs": [
    {
     "data": {
      "text/plain": [
       "(tensor([[[0.2549, 0.2549, 0.2000,  ..., 0.5216, 0.5882, 0.5216],\n",
       "          [0.2275, 0.2392, 0.2000,  ..., 0.5804, 0.6980, 0.5647],\n",
       "          [0.3098, 0.2863, 0.2549,  ..., 0.5490, 0.5569, 0.5765],\n",
       "          ...,\n",
       "          [0.5176, 0.3725, 0.2392,  ..., 0.1529, 0.1804, 0.0980],\n",
       "          [0.5882, 0.4471, 0.2510,  ..., 0.1843, 0.1490, 0.5490],\n",
       "          [0.5686, 0.4510, 0.2706,  ..., 0.1216, 0.5020, 0.7686]],\n",
       " \n",
       "         [[0.2078, 0.2078, 0.1529,  ..., 0.4980, 0.5529, 0.4863],\n",
       "          [0.1765, 0.1882, 0.1490,  ..., 0.5529, 0.6627, 0.5294],\n",
       "          [0.2588, 0.2353, 0.2000,  ..., 0.5137, 0.5216, 0.5333],\n",
       "          ...,\n",
       "          [0.4784, 0.3333, 0.2000,  ..., 0.1098, 0.1412, 0.0627],\n",
       "          [0.5608, 0.4196, 0.2118,  ..., 0.1373, 0.1059, 0.5059],\n",
       "          [0.5412, 0.4235, 0.2314,  ..., 0.0745, 0.4588, 0.7255]],\n",
       " \n",
       "         [[0.2157, 0.2157, 0.1608,  ..., 0.4353, 0.4863, 0.4196],\n",
       "          [0.2039, 0.2157, 0.1765,  ..., 0.4824, 0.5961, 0.4627],\n",
       "          [0.3255, 0.3020, 0.2588,  ..., 0.4471, 0.4549, 0.4627],\n",
       "          ...,\n",
       "          [0.5216, 0.3686, 0.2353,  ..., 0.1647, 0.1765, 0.0824],\n",
       "          [0.5922, 0.4510, 0.2471,  ..., 0.1843, 0.1373, 0.5216],\n",
       "          [0.5725, 0.4549, 0.2627,  ..., 0.1216, 0.4824, 0.7412]]]),\n",
       " tensor(0))"
      ]
     },
     "execution_count": 15,
     "metadata": {},
     "output_type": "execute_result"
    }
   ],
   "source": [
    "dataset.__getitem__(2)"
   ]
  },
  {
   "cell_type": "code",
   "execution_count": 14,
   "metadata": {},
   "outputs": [
    {
     "data": {
      "text/plain": [
       "10"
      ]
     },
     "execution_count": 14,
     "metadata": {},
     "output_type": "execute_result"
    }
   ],
   "source": [
    "dataset.__len__()"
   ]
  },
  {
   "cell_type": "code",
   "execution_count": 26,
   "metadata": {},
   "outputs": [],
   "source": [
    "# Dataset is actually a lot larger ~25k images, just took out 10 pictures\n",
    "# to upload to Github. It's enough to understand the structure and scale\n",
    "# if you got more images.\n",
    "train_set, test_set = torch.utils.data.random_split(dataset, [5, 5])  # needs attribute .__len__() of the dataset\n",
    "train_loader = DataLoader(dataset=train_set, batch_size=batch_size, shuffle=True)\n",
    "test_loader = DataLoader(dataset=test_set, batch_size=batch_size, shuffle=True)\n",
    "\n",
    "# Model\n",
    "model = torchvision.models.googlenet(weights=\"DEFAULT\")\n",
    "\n",
    "# freeze all layers, change final linear layer with num_classes\n",
    "for param in model.parameters():\n",
    "    param.requires_grad = False\n",
    "\n",
    "# final layer is not frozen\n",
    "model.fc = nn.Linear(in_features=1024, out_features=num_classes)\n",
    "model.to(device)\n",
    "\n",
    "# Loss and optimizer\n",
    "criterion = nn.CrossEntropyLoss()\n",
    "optimizer = optim.Adam(model.parameters(), lr=learning_rate, weight_decay=1e-5)\n",
    "\n"
   ]
  },
  {
   "cell_type": "code",
   "execution_count": 27,
   "metadata": {},
   "outputs": [
    {
     "name": "stdout",
     "output_type": "stream",
     "text": [
      "Cost at epoch 0 is 0.7233263850212097\n",
      "Cost at epoch 1 is 0.6048968434333801\n",
      "Cost at epoch 2 is 0.5148124694824219\n",
      "Cost at epoch 3 is 0.5543022751808167\n",
      "Cost at epoch 4 is 0.5021189451217651\n",
      "Cost at epoch 5 is 0.45927420258522034\n",
      "Cost at epoch 6 is 0.4333237111568451\n",
      "Cost at epoch 7 is 0.38993144035339355\n",
      "Cost at epoch 8 is 0.35386139154434204\n",
      "Cost at epoch 9 is 0.3682589828968048\n"
     ]
    }
   ],
   "source": [
    "# Train Network\n",
    "for epoch in range(num_epochs):\n",
    "    losses = []\n",
    "\n",
    "    for batch_idx, (data, targets) in enumerate(train_loader):  # needs .__getitem__() attribute of dataset\n",
    "        # Get data to cuda if possible\n",
    "        data = data.to(device=device)\n",
    "        targets = targets.to(device=device)\n",
    "\n",
    "        # forward\n",
    "        scores = model(data)\n",
    "        loss = criterion(scores, targets)\n",
    "\n",
    "        losses.append(loss.item())\n",
    "\n",
    "        # backward\n",
    "        optimizer.zero_grad()\n",
    "        loss.backward()\n",
    "\n",
    "        # gradient descent or adam step\n",
    "        optimizer.step()\n",
    "\n",
    "    print(f\"Cost at epoch {epoch} is {sum(losses)/len(losses)}\")\n",
    "\n"
   ]
  },
  {
   "cell_type": "code",
   "execution_count": 28,
   "metadata": {},
   "outputs": [],
   "source": [
    "# Check accuracy on training to see how good our model is\n",
    "def check_accuracy(loader, model):\n",
    "    num_correct = 0\n",
    "    num_samples = 0\n",
    "    model.eval()\n",
    "\n",
    "    with torch.no_grad():\n",
    "        for x, y in loader:\n",
    "            x = x.to(device=device)\n",
    "            y = y.to(device=device)\n",
    "\n",
    "            scores = model(x)\n",
    "            _, predictions = scores.max(1)\n",
    "            num_correct += (predictions == y).sum()\n",
    "            num_samples += predictions.size(0)\n",
    "\n",
    "        print(\n",
    "            f\"Got {num_correct} / {num_samples} with accuracy {float(num_correct)/float(num_samples)*100:.2f}\"\n",
    "        )\n",
    "\n",
    "    model.train()"
   ]
  },
  {
   "cell_type": "code",
   "execution_count": 12,
   "metadata": {},
   "outputs": [
    {
     "name": "stdout",
     "output_type": "stream",
     "text": [
      "Checking accuracy on Training Set\n",
      "Got 4 / 5 with accuracy 80.00\n",
      "Checking accuracy on Test Set\n",
      "Got 4 / 5 with accuracy 80.00\n"
     ]
    }
   ],
   "source": [
    "print(\"Checking accuracy on Training Set\")\n",
    "check_accuracy(train_loader, model)\n",
    "\n",
    "print(\"Checking accuracy on Test Set\")\n",
    "check_accuracy(test_loader, model)"
   ]
  }
 ],
 "metadata": {
  "kernelspec": {
   "display_name": "Torch_GPU",
   "language": "python",
   "name": "python3"
  },
  "language_info": {
   "codemirror_mode": {
    "name": "ipython",
    "version": 3
   },
   "file_extension": ".py",
   "mimetype": "text/x-python",
   "name": "python",
   "nbconvert_exporter": "python",
   "pygments_lexer": "ipython3",
   "version": "3.8.19"
  }
 },
 "nbformat": 4,
 "nbformat_minor": 2
}
